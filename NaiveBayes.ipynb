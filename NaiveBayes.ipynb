{
 "cells": [
  {
   "cell_type": "code",
   "execution_count": 2,
   "metadata": {},
   "outputs": [],
   "source": [
    "import pandas as pd\n",
    "from sklearn.model_selection import train_test_split\n",
    "from scipy.stats.distributions import gamma\n",
    "import numpy as np\n",
    "import matplotlib.pyplot as plt\n",
    "from sklearn.naive_bayes import GaussianNB\n",
    "\n",
    "df = pd.read_csv(\"data/data_cafe_prep.csv\")"
   ]
  },
  {
   "cell_type": "code",
   "execution_count": 9,
   "metadata": {},
   "outputs": [
    {
     "data": {
      "text/html": [
       "<div>\n",
       "<style scoped>\n",
       "    .dataframe tbody tr th:only-of-type {\n",
       "        vertical-align: middle;\n",
       "    }\n",
       "\n",
       "    .dataframe tbody tr th {\n",
       "        vertical-align: top;\n",
       "    }\n",
       "\n",
       "    .dataframe thead th {\n",
       "        text-align: right;\n",
       "    }\n",
       "</style>\n",
       "<table border=\"1\" class=\"dataframe\">\n",
       "  <thead>\n",
       "    <tr style=\"text-align: right;\">\n",
       "      <th></th>\n",
       "      <th>id</th>\n",
       "      <th>name</th>\n",
       "      <th>plus_code</th>\n",
       "      <th>price_level</th>\n",
       "      <th>rating</th>\n",
       "      <th>types</th>\n",
       "      <th>user_ratings_total</th>\n",
       "      <th>lat</th>\n",
       "      <th>lng</th>\n",
       "      <th>closest_metro</th>\n",
       "      <th>closest_metro_km</th>\n",
       "      <th>Quantity of nearest museum</th>\n",
       "      <th>Quantity of nearest art_gallery</th>\n",
       "      <th>Quantity of nearest shopping_mall</th>\n",
       "      <th>Quantity of nearest places_tourist_attraction</th>\n",
       "      <th>Quantity of nearest same establishment</th>\n",
       "      <th>opportunity_take_away</th>\n",
       "      <th>result</th>\n",
       "      <th>distance_to_center, km</th>\n",
       "    </tr>\n",
       "  </thead>\n",
       "  <tbody>\n",
       "    <tr>\n",
       "      <th>0</th>\n",
       "      <td>fc621104fe8cf4fcf86a6a5e64dd8ee786b402b8</td>\n",
       "      <td>Sytaya Akula</td>\n",
       "      <td>{'compound_code': 'W885+6Q Admiralteyskiy, Sai...</td>\n",
       "      <td>NaN</td>\n",
       "      <td>3.9</td>\n",
       "      <td>['cafe', 'bar', 'restaurant', 'food', 'point_o...</td>\n",
       "      <td>37.0</td>\n",
       "      <td>59.915517</td>\n",
       "      <td>30.309495</td>\n",
       "      <td>['Технологический институт-1']</td>\n",
       "      <td>0.518818</td>\n",
       "      <td>16</td>\n",
       "      <td>4</td>\n",
       "      <td>9</td>\n",
       "      <td>30</td>\n",
       "      <td>94</td>\n",
       "      <td>0</td>\n",
       "      <td>144.3</td>\n",
       "      <td>2.243226</td>\n",
       "    </tr>\n",
       "    <tr>\n",
       "      <th>1</th>\n",
       "      <td>775029dc407f64cd8524c05ba8795d96382e4470</td>\n",
       "      <td>Кальянная Hustle</td>\n",
       "      <td>{'compound_code': 'W9F4+VH Tsentralny District...</td>\n",
       "      <td>NaN</td>\n",
       "      <td>5.0</td>\n",
       "      <td>['cafe', 'bar', 'restaurant', 'food', 'point_o...</td>\n",
       "      <td>27.0</td>\n",
       "      <td>59.924627</td>\n",
       "      <td>30.356393</td>\n",
       "      <td>['Лиговский проспект']</td>\n",
       "      <td>0.437038</td>\n",
       "      <td>36</td>\n",
       "      <td>35</td>\n",
       "      <td>34</td>\n",
       "      <td>52</td>\n",
       "      <td>119</td>\n",
       "      <td>0</td>\n",
       "      <td>135.0</td>\n",
       "      <td>2.080040</td>\n",
       "    </tr>\n",
       "    <tr>\n",
       "      <th>2</th>\n",
       "      <td>cc529e7d0038d813d0afd342936be45fff5bf822</td>\n",
       "      <td>Wood bar</td>\n",
       "      <td>{'compound_code': 'W9G2+CW Tsentralny District...</td>\n",
       "      <td>2.0</td>\n",
       "      <td>4.7</td>\n",
       "      <td>['cafe', 'bar', 'restaurant', 'food', 'point_o...</td>\n",
       "      <td>308.0</td>\n",
       "      <td>59.926036</td>\n",
       "      <td>30.352349</td>\n",
       "      <td>['Достоевская']</td>\n",
       "      <td>0.296679</td>\n",
       "      <td>52</td>\n",
       "      <td>43</td>\n",
       "      <td>49</td>\n",
       "      <td>67</td>\n",
       "      <td>136</td>\n",
       "      <td>0</td>\n",
       "      <td>1447.6</td>\n",
       "      <td>1.805490</td>\n",
       "    </tr>\n",
       "    <tr>\n",
       "      <th>3</th>\n",
       "      <td>aaf2e3a83371bdd09259f36f4128ee2c0770553a</td>\n",
       "      <td>Кальянная 1/2 OF YOU</td>\n",
       "      <td>{'compound_code': 'W9J5+9Q Tsentralny District...</td>\n",
       "      <td>NaN</td>\n",
       "      <td>4.7</td>\n",
       "      <td>['cafe', 'bar', 'restaurant', 'food', 'point_o...</td>\n",
       "      <td>97.0</td>\n",
       "      <td>59.931000</td>\n",
       "      <td>30.359420</td>\n",
       "      <td>['Площадь Восстания']</td>\n",
       "      <td>0.075226</td>\n",
       "      <td>71</td>\n",
       "      <td>49</td>\n",
       "      <td>36</td>\n",
       "      <td>70</td>\n",
       "      <td>119</td>\n",
       "      <td>0</td>\n",
       "      <td>455.9</td>\n",
       "      <td>1.987175</td>\n",
       "    </tr>\n",
       "    <tr>\n",
       "      <th>4</th>\n",
       "      <td>45c6c021f483ca5850a1d97463ca43a8adae03ea</td>\n",
       "      <td>Антикафе-кальянная Terra 13 Lounge</td>\n",
       "      <td>{'compound_code': 'W8MP+W2 Tsentralny District...</td>\n",
       "      <td>NaN</td>\n",
       "      <td>4.7</td>\n",
       "      <td>['cafe', 'bar', 'restaurant', 'food', 'point_o...</td>\n",
       "      <td>24.0</td>\n",
       "      <td>59.934828</td>\n",
       "      <td>30.335022</td>\n",
       "      <td>['Гостиный Двор']</td>\n",
       "      <td>0.111416</td>\n",
       "      <td>134</td>\n",
       "      <td>80</td>\n",
       "      <td>31</td>\n",
       "      <td>182</td>\n",
       "      <td>80</td>\n",
       "      <td>0</td>\n",
       "      <td>112.8</td>\n",
       "      <td>0.594867</td>\n",
       "    </tr>\n",
       "  </tbody>\n",
       "</table>\n",
       "</div>"
      ],
      "text/plain": [
       "                                         id  \\\n",
       "0  fc621104fe8cf4fcf86a6a5e64dd8ee786b402b8   \n",
       "1  775029dc407f64cd8524c05ba8795d96382e4470   \n",
       "2  cc529e7d0038d813d0afd342936be45fff5bf822   \n",
       "3  aaf2e3a83371bdd09259f36f4128ee2c0770553a   \n",
       "4  45c6c021f483ca5850a1d97463ca43a8adae03ea   \n",
       "\n",
       "                                 name  \\\n",
       "0                        Sytaya Akula   \n",
       "1                    Кальянная Hustle   \n",
       "2                            Wood bar   \n",
       "3                Кальянная 1/2 OF YOU   \n",
       "4  Антикафе-кальянная Terra 13 Lounge   \n",
       "\n",
       "                                           plus_code  price_level  rating  \\\n",
       "0  {'compound_code': 'W885+6Q Admiralteyskiy, Sai...          NaN     3.9   \n",
       "1  {'compound_code': 'W9F4+VH Tsentralny District...          NaN     5.0   \n",
       "2  {'compound_code': 'W9G2+CW Tsentralny District...          2.0     4.7   \n",
       "3  {'compound_code': 'W9J5+9Q Tsentralny District...          NaN     4.7   \n",
       "4  {'compound_code': 'W8MP+W2 Tsentralny District...          NaN     4.7   \n",
       "\n",
       "                                               types  user_ratings_total  \\\n",
       "0  ['cafe', 'bar', 'restaurant', 'food', 'point_o...                37.0   \n",
       "1  ['cafe', 'bar', 'restaurant', 'food', 'point_o...                27.0   \n",
       "2  ['cafe', 'bar', 'restaurant', 'food', 'point_o...               308.0   \n",
       "3  ['cafe', 'bar', 'restaurant', 'food', 'point_o...                97.0   \n",
       "4  ['cafe', 'bar', 'restaurant', 'food', 'point_o...                24.0   \n",
       "\n",
       "         lat        lng                   closest_metro  closest_metro_km  \\\n",
       "0  59.915517  30.309495  ['Технологический институт-1']          0.518818   \n",
       "1  59.924627  30.356393          ['Лиговский проспект']          0.437038   \n",
       "2  59.926036  30.352349                 ['Достоевская']          0.296679   \n",
       "3  59.931000  30.359420           ['Площадь Восстания']          0.075226   \n",
       "4  59.934828  30.335022               ['Гостиный Двор']          0.111416   \n",
       "\n",
       "   Quantity of nearest museum  Quantity of nearest art_gallery  \\\n",
       "0                          16                                4   \n",
       "1                          36                               35   \n",
       "2                          52                               43   \n",
       "3                          71                               49   \n",
       "4                         134                               80   \n",
       "\n",
       "   Quantity of nearest shopping_mall  \\\n",
       "0                                  9   \n",
       "1                                 34   \n",
       "2                                 49   \n",
       "3                                 36   \n",
       "4                                 31   \n",
       "\n",
       "   Quantity of nearest places_tourist_attraction  \\\n",
       "0                                             30   \n",
       "1                                             52   \n",
       "2                                             67   \n",
       "3                                             70   \n",
       "4                                            182   \n",
       "\n",
       "   Quantity of nearest same establishment  opportunity_take_away  result  \\\n",
       "0                                      94                      0   144.3   \n",
       "1                                     119                      0   135.0   \n",
       "2                                     136                      0  1447.6   \n",
       "3                                     119                      0   455.9   \n",
       "4                                      80                      0   112.8   \n",
       "\n",
       "   distance_to_center, km  \n",
       "0                2.243226  \n",
       "1                2.080040  \n",
       "2                1.805490  \n",
       "3                1.987175  \n",
       "4                0.594867  "
      ]
     },
     "execution_count": 9,
     "metadata": {},
     "output_type": "execute_result"
    }
   ],
   "source": [
    "df.head()"
   ]
  },
  {
   "cell_type": "code",
   "execution_count": 6,
   "metadata": {},
   "outputs": [
    {
     "data": {
      "text/html": [
       "<div>\n",
       "<style scoped>\n",
       "    .dataframe tbody tr th:only-of-type {\n",
       "        vertical-align: middle;\n",
       "    }\n",
       "\n",
       "    .dataframe tbody tr th {\n",
       "        vertical-align: top;\n",
       "    }\n",
       "\n",
       "    .dataframe thead th {\n",
       "        text-align: right;\n",
       "    }\n",
       "</style>\n",
       "<table border=\"1\" class=\"dataframe\">\n",
       "  <thead>\n",
       "    <tr style=\"text-align: right;\">\n",
       "      <th></th>\n",
       "      <th>price_level</th>\n",
       "      <th>rating</th>\n",
       "      <th>types</th>\n",
       "      <th>user_ratings_total</th>\n",
       "      <th>lat</th>\n",
       "      <th>lng</th>\n",
       "      <th>closest_metro</th>\n",
       "      <th>closest_metro_km</th>\n",
       "      <th>Quantity of nearest museum</th>\n",
       "      <th>Quantity of nearest art_gallery</th>\n",
       "      <th>Quantity of nearest shopping_mall</th>\n",
       "      <th>Quantity of nearest places_tourist_attraction</th>\n",
       "      <th>Quantity of nearest same establishment</th>\n",
       "      <th>opportunity_take_away</th>\n",
       "      <th>distance_to_center, km</th>\n",
       "    </tr>\n",
       "  </thead>\n",
       "  <tbody>\n",
       "    <tr>\n",
       "      <th>0</th>\n",
       "      <td>NaN</td>\n",
       "      <td>3.9</td>\n",
       "      <td>['cafe', 'bar', 'restaurant', 'food', 'point_o...</td>\n",
       "      <td>37.0</td>\n",
       "      <td>59.915517</td>\n",
       "      <td>30.309495</td>\n",
       "      <td>['Технологический институт-1']</td>\n",
       "      <td>0.518818</td>\n",
       "      <td>16</td>\n",
       "      <td>4</td>\n",
       "      <td>9</td>\n",
       "      <td>30</td>\n",
       "      <td>94</td>\n",
       "      <td>0</td>\n",
       "      <td>2.243226</td>\n",
       "    </tr>\n",
       "    <tr>\n",
       "      <th>1</th>\n",
       "      <td>NaN</td>\n",
       "      <td>5.0</td>\n",
       "      <td>['cafe', 'bar', 'restaurant', 'food', 'point_o...</td>\n",
       "      <td>27.0</td>\n",
       "      <td>59.924627</td>\n",
       "      <td>30.356393</td>\n",
       "      <td>['Лиговский проспект']</td>\n",
       "      <td>0.437038</td>\n",
       "      <td>36</td>\n",
       "      <td>35</td>\n",
       "      <td>34</td>\n",
       "      <td>52</td>\n",
       "      <td>119</td>\n",
       "      <td>0</td>\n",
       "      <td>2.080040</td>\n",
       "    </tr>\n",
       "    <tr>\n",
       "      <th>2</th>\n",
       "      <td>2.0</td>\n",
       "      <td>4.7</td>\n",
       "      <td>['cafe', 'bar', 'restaurant', 'food', 'point_o...</td>\n",
       "      <td>308.0</td>\n",
       "      <td>59.926036</td>\n",
       "      <td>30.352349</td>\n",
       "      <td>['Достоевская']</td>\n",
       "      <td>0.296679</td>\n",
       "      <td>52</td>\n",
       "      <td>43</td>\n",
       "      <td>49</td>\n",
       "      <td>67</td>\n",
       "      <td>136</td>\n",
       "      <td>0</td>\n",
       "      <td>1.805490</td>\n",
       "    </tr>\n",
       "    <tr>\n",
       "      <th>3</th>\n",
       "      <td>NaN</td>\n",
       "      <td>4.7</td>\n",
       "      <td>['cafe', 'bar', 'restaurant', 'food', 'point_o...</td>\n",
       "      <td>97.0</td>\n",
       "      <td>59.931000</td>\n",
       "      <td>30.359420</td>\n",
       "      <td>['Площадь Восстания']</td>\n",
       "      <td>0.075226</td>\n",
       "      <td>71</td>\n",
       "      <td>49</td>\n",
       "      <td>36</td>\n",
       "      <td>70</td>\n",
       "      <td>119</td>\n",
       "      <td>0</td>\n",
       "      <td>1.987175</td>\n",
       "    </tr>\n",
       "    <tr>\n",
       "      <th>4</th>\n",
       "      <td>NaN</td>\n",
       "      <td>4.7</td>\n",
       "      <td>['cafe', 'bar', 'restaurant', 'food', 'point_o...</td>\n",
       "      <td>24.0</td>\n",
       "      <td>59.934828</td>\n",
       "      <td>30.335022</td>\n",
       "      <td>['Гостиный Двор']</td>\n",
       "      <td>0.111416</td>\n",
       "      <td>134</td>\n",
       "      <td>80</td>\n",
       "      <td>31</td>\n",
       "      <td>182</td>\n",
       "      <td>80</td>\n",
       "      <td>0</td>\n",
       "      <td>0.594867</td>\n",
       "    </tr>\n",
       "  </tbody>\n",
       "</table>\n",
       "</div>"
      ],
      "text/plain": [
       "   price_level  rating                                              types  \\\n",
       "0          NaN     3.9  ['cafe', 'bar', 'restaurant', 'food', 'point_o...   \n",
       "1          NaN     5.0  ['cafe', 'bar', 'restaurant', 'food', 'point_o...   \n",
       "2          2.0     4.7  ['cafe', 'bar', 'restaurant', 'food', 'point_o...   \n",
       "3          NaN     4.7  ['cafe', 'bar', 'restaurant', 'food', 'point_o...   \n",
       "4          NaN     4.7  ['cafe', 'bar', 'restaurant', 'food', 'point_o...   \n",
       "\n",
       "   user_ratings_total        lat        lng                   closest_metro  \\\n",
       "0                37.0  59.915517  30.309495  ['Технологический институт-1']   \n",
       "1                27.0  59.924627  30.356393          ['Лиговский проспект']   \n",
       "2               308.0  59.926036  30.352349                 ['Достоевская']   \n",
       "3                97.0  59.931000  30.359420           ['Площадь Восстания']   \n",
       "4                24.0  59.934828  30.335022               ['Гостиный Двор']   \n",
       "\n",
       "   closest_metro_km  Quantity of nearest museum  \\\n",
       "0          0.518818                          16   \n",
       "1          0.437038                          36   \n",
       "2          0.296679                          52   \n",
       "3          0.075226                          71   \n",
       "4          0.111416                         134   \n",
       "\n",
       "   Quantity of nearest art_gallery  Quantity of nearest shopping_mall  \\\n",
       "0                                4                                  9   \n",
       "1                               35                                 34   \n",
       "2                               43                                 49   \n",
       "3                               49                                 36   \n",
       "4                               80                                 31   \n",
       "\n",
       "   Quantity of nearest places_tourist_attraction  \\\n",
       "0                                             30   \n",
       "1                                             52   \n",
       "2                                             67   \n",
       "3                                             70   \n",
       "4                                            182   \n",
       "\n",
       "   Quantity of nearest same establishment  opportunity_take_away  \\\n",
       "0                                      94                      0   \n",
       "1                                     119                      0   \n",
       "2                                     136                      0   \n",
       "3                                     119                      0   \n",
       "4                                      80                      0   \n",
       "\n",
       "   distance_to_center, km  \n",
       "0                2.243226  \n",
       "1                2.080040  \n",
       "2                1.805490  \n",
       "3                1.987175  \n",
       "4                0.594867  "
      ]
     },
     "execution_count": 6,
     "metadata": {},
     "output_type": "execute_result"
    }
   ],
   "source": [
    "data = df.drop(columns = ['id', 'name','plus_code', 'result'])\n",
    "data.head()"
   ]
  },
  {
   "cell_type": "code",
   "execution_count": 10,
   "metadata": {},
   "outputs": [],
   "source": [
    "y = df[\"user_ratings_total\"]"
   ]
  },
  {
   "cell_type": "code",
   "execution_count": 11,
   "metadata": {},
   "outputs": [],
   "source": [
    "x = df.drop(columns = ['id', 'name','plus_code', 'result', 'user_ratings_total'])\n",
    "# 'types','closest_metro' - категориальные"
   ]
  },
  {
   "cell_type": "code",
   "execution_count": 12,
   "metadata": {},
   "outputs": [],
   "source": [
    "# заменяем категориальные переменные\n",
    "x[\"types\"] = x['types'].astype('category')\n",
    "x[\"closest_metro\"] = x['closest_metro'].astype('category')\n",
    "cat_columns = x.select_dtypes(['category']).columns\n",
    "x[cat_columns] = x[cat_columns].apply(lambda x: x.cat.codes)"
   ]
  },
  {
   "cell_type": "code",
   "execution_count": 13,
   "metadata": {},
   "outputs": [],
   "source": [
    "x.fillna(value={'price_level': df.price_level.mean()}, inplace=True)"
   ]
  },
  {
   "cell_type": "code",
   "execution_count": 38,
   "metadata": {},
   "outputs": [],
   "source": [
    "X_train, X_test, y_train, y_test = train_test_split(x, y, test_size=0.3, random_state=42)"
   ]
  },
  {
   "cell_type": "code",
   "execution_count": 39,
   "metadata": {},
   "outputs": [],
   "source": [
    "# байес\n",
    "gnb = GaussianNB()"
   ]
  },
  {
   "cell_type": "code",
   "execution_count": 40,
   "metadata": {},
   "outputs": [],
   "source": [
    "y_pred = gnb.fit(X_train, y_train).predict(X_test)"
   ]
  },
  {
   "cell_type": "code",
   "execution_count": 41,
   "metadata": {},
   "outputs": [
    {
     "name": "stdout",
     "output_type": "stream",
     "text": [
      "Mean absolute error =  278.9701014415376\n",
      "Mean squared error =  197952.14148424988\n",
      "Mean absolute percentage error =  2764.224197020653\n"
     ]
    }
   ],
   "source": [
    "from sklearn.metrics import mean_absolute_error\n",
    "from sklearn.metrics import mean_squared_error\n",
    "def mean_absolute_percentage_error(y_true, y_pred): \n",
    "    return np.mean(np.abs((y_true - y_pred) / y_true)) * 100\n",
    "\n",
    "mae = mean_absolute_error(y_test, y_pred)\n",
    "mse = mean_squared_error(y_test, y_pred)\n",
    "print('Mean absolute error = ', mae)\n",
    "print('Mean squared error = ', mse)\n",
    "mape = mean_absolute_percentage_error(y_test, y_pred)\n",
    "print('Mean absolute percentage error = ', mape)\n",
    "\n",
    "# плохо"
   ]
  },
  {
   "cell_type": "code",
   "execution_count": 42,
   "metadata": {},
   "outputs": [
    {
     "data": {
      "text/plain": [
       "\"\\nfrom sklearn.preprocessing import StandardScaler \\nsc = StandardScaler() \\n  \\nX_train = sc.fit_transform(X_train) \\nX_test = sc.transform(X_test)\\nfrom sklearn.decomposition import PCA \\n  \\npca = PCA(n_components = 2) \\n  \\nX_train = pca.fit_transform(X_train) \\nX_test = pca.transform(X_test) \\n  \\nexplained_variance = pca.explained_variance_ratio_ \\nclassifier = GaussianNB() \\nclassifier.fit(X_train, y_train)\\ny_pred = classifier.predict(X_test) \\nmae = mean_absolute_error(y_test, y_pred)\\nmse = mean_squared_error(y_test, y_pred)\\nprint('Mean absolute error = ', mae)\\nprint('Mean squared error = ', mse)\\nmape = mean_absolute_percentage_error(y_test, y_pred)\\nprint('Mean absolute percentage error = ', mape)\\n\""
      ]
     },
     "execution_count": 42,
     "metadata": {},
     "output_type": "execute_result"
    }
   ],
   "source": [
    "'''\n",
    "from sklearn.preprocessing import StandardScaler \n",
    "sc = StandardScaler() \n",
    "  \n",
    "X_train = sc.fit_transform(X_train) \n",
    "X_test = sc.transform(X_test)\n",
    "from sklearn.decomposition import PCA \n",
    "  \n",
    "pca = PCA(n_components = 2) \n",
    "  \n",
    "X_train = pca.fit_transform(X_train) \n",
    "X_test = pca.transform(X_test) \n",
    "  \n",
    "explained_variance = pca.explained_variance_ratio_ \n",
    "classifier = GaussianNB() \n",
    "classifier.fit(X_train, y_train)\n",
    "y_pred = classifier.predict(X_test) \n",
    "mae = mean_absolute_error(y_test, y_pred)\n",
    "mse = mean_squared_error(y_test, y_pred)\n",
    "print('Mean absolute error = ', mae)\n",
    "print('Mean squared error = ', mse)\n",
    "mape = mean_absolute_percentage_error(y_test, y_pred)\n",
    "print('Mean absolute percentage error = ', mape)\n",
    "'''\n",
    "# здесь применение наивного байеса к данным с использованием метода главных компонент, но я не уверенна что это нужно."
   ]
  },
  {
   "cell_type": "code",
   "execution_count": 43,
   "metadata": {},
   "outputs": [],
   "source": [
    "from sklearn.naive_bayes import MultinomialNB\n",
    "mnb = MultinomialNB()"
   ]
  },
  {
   "cell_type": "code",
   "execution_count": 44,
   "metadata": {},
   "outputs": [],
   "source": [
    "y_pred = mnb.fit(X_train, y_train).predict(X_test)"
   ]
  },
  {
   "cell_type": "code",
   "execution_count": 45,
   "metadata": {},
   "outputs": [
    {
     "name": "stdout",
     "output_type": "stream",
     "text": [
      "Mean absolute error =  628.950880939669\n",
      "Mean squared error =  849210.5974372664\n",
      "Mean absolute percentage error =  9899.137855099694\n"
     ]
    }
   ],
   "source": [
    "mae = mean_absolute_error(y_test, y_pred)\n",
    "mse = mean_squared_error(y_test, y_pred)\n",
    "print('Mean absolute error = ', mae)\n",
    "print('Mean squared error = ', mse)\n",
    "mape = mean_absolute_percentage_error(y_test, y_pred)\n",
    "print('Mean absolute percentage error = ', mape)"
   ]
  },
  {
   "cell_type": "code",
   "execution_count": 48,
   "metadata": {},
   "outputs": [
    {
     "name": "stdout",
     "output_type": "stream",
     "text": [
      "Collecting pomegranate\n",
      "  Downloading pomegranate-0.13.3.tar.gz (3.3 MB)\n",
      "\u001b[K     |████████████████████████████████| 3.3 MB 2.2 MB/s eta 0:00:01\n",
      "\u001b[?25hRequirement already satisfied: numpy>=1.8.0 in /Users/f/anaconda3/lib/python3.7/site-packages (from pomegranate) (1.18.4)\n",
      "Requirement already satisfied: joblib>=0.9.0b4 in /Users/f/anaconda3/lib/python3.7/site-packages (from pomegranate) (0.14.1)\n",
      "Requirement already satisfied: networkx>=2.0 in /Users/f/anaconda3/lib/python3.7/site-packages (from pomegranate) (2.4)\n",
      "Requirement already satisfied: scipy>=0.17.0 in /Users/f/anaconda3/lib/python3.7/site-packages (from pomegranate) (1.1.0)\n",
      "Requirement already satisfied: pyyaml in /Users/f/anaconda3/lib/python3.7/site-packages (from pomegranate) (5.3.1)\n",
      "Requirement already satisfied: decorator>=4.3.0 in /Users/f/anaconda3/lib/python3.7/site-packages (from networkx>=2.0->pomegranate) (4.4.2)\n",
      "Building wheels for collected packages: pomegranate\n",
      "  Building wheel for pomegranate (setup.py) ... \u001b[?25ldone\n",
      "\u001b[?25h  Created wheel for pomegranate: filename=pomegranate-0.13.3-cp37-cp37m-macosx_10_9_x86_64.whl size=5539301 sha256=4be7dbee64fcc361edbfb50cb32ffd907056aca556ccedb669f2097ddadf7e8a\n",
      "  Stored in directory: /Users/f/Library/Caches/pip/wheels/f1/a7/a2/ff9735baa86c85b41d5e16f65eaa89172f9ee645e77c9525ba\n",
      "Successfully built pomegranate\n",
      "Installing collected packages: pomegranate\n",
      "Successfully installed pomegranate-0.13.3\n"
     ]
    }
   ],
   "source": [
    "# байесовская сеть\n",
    "!pip install pomegranate"
   ]
  },
  {
   "cell_type": "code",
   "execution_count": 49,
   "metadata": {},
   "outputs": [],
   "source": [
    "from pomegranate import *\n",
    "import numpy"
   ]
  },
  {
   "cell_type": "code",
   "execution_count": 50,
   "metadata": {},
   "outputs": [
    {
     "name": "stderr",
     "output_type": "stream",
     "text": [
      "/Users/f/anaconda3/lib/python3.7/site-packages/ipykernel_launcher.py:1: SettingWithCopyWarning: \n",
      "A value is trying to be set on a copy of a slice from a DataFrame.\n",
      "Try using .loc[row_indexer,col_indexer] = value instead\n",
      "\n",
      "See the caveats in the documentation: https://pandas.pydata.org/pandas-docs/stable/user_guide/indexing.html#returning-a-view-versus-a-copy\n",
      "  \"\"\"Entry point for launching an IPython kernel.\n"
     ]
    }
   ],
   "source": [
    "X_train[\"user_rating_total\"] = np.array(y_train)"
   ]
  },
  {
   "cell_type": "code",
   "execution_count": 51,
   "metadata": {},
   "outputs": [],
   "source": [
    "\n",
    "#X = numpy.\n",
    "#model = BayesianNetwork.from_samples(df_train, algorithm='exact')\n",
    "train = X_train.values"
   ]
  },
  {
   "cell_type": "code",
   "execution_count": null,
   "metadata": {},
   "outputs": [],
   "source": [
    "model = BayesianNetwork.from_samples(train, algorithm='chow-liu')"
   ]
  },
  {
   "cell_type": "code",
   "execution_count": null,
   "metadata": {},
   "outputs": [],
   "source": [
    "X_train.head()"
   ]
  },
  {
   "cell_type": "code",
   "execution_count": null,
   "metadata": {},
   "outputs": [],
   "source": [
    "predict = []\n",
    "\n",
    "for j in range(len(X_test.values)):\n",
    "    for i in range(len(X_test.values[0]) - 1):\n",
    "        d[f\"{i}\"] = X_test.values[j][i]\n",
    "    proba = model.predict_proba(d)\n",
    "    a = proba[14].parameters[0]\n",
    "        \n",
    "    predict.append(sum(k*v for k,v in a.items()))"
   ]
  },
  {
   "cell_type": "code",
   "execution_count": null,
   "metadata": {},
   "outputs": [],
   "source": [
    "mae = mean_absolute_error(y_test, predict)\n",
    "mse = mean_squared_error(y_test, predict)\n",
    "print('Mean absolute error = ', mae)\n",
    "print('Mean squared error = ', mse)\n",
    "mape = mean_absolute_percentage_error(y_test, predict)\n",
    "print('Mean absolute percentage error = ', mape)"
   ]
  },
  {
   "cell_type": "code",
   "execution_count": 119,
   "metadata": {},
   "outputs": [
    {
     "data": {
      "text/plain": [
       "5546     150.0\n",
       "2072      83.0\n",
       "4768     312.0\n",
       "1874       1.0\n",
       "2118      33.0\n",
       "         ...  \n",
       "1585       1.0\n",
       "1955     523.0\n",
       "3152       5.0\n",
       "34       320.0\n",
       "4014    1840.0\n",
       "Name: user_ratings_total, Length: 6180, dtype: float64"
      ]
     },
     "execution_count": 119,
     "metadata": {},
     "output_type": "execute_result"
    }
   ],
   "source": [
    "y_test"
   ]
  },
  {
   "cell_type": "code",
   "execution_count": 82,
   "metadata": {},
   "outputs": [],
   "source": [
    "d = {}\n",
    "for i in range(len(X_test.values[0]) - 1):\n",
    "    d[f\"{i}\"] = X_test.values[0][i]"
   ]
  },
  {
   "cell_type": "code",
   "execution_count": 83,
   "metadata": {},
   "outputs": [
    {
     "data": {
      "text/plain": [
       "{'0': 2.0,\n",
       " '1': 3.9,\n",
       " '2': 8.0,\n",
       " '3': 60.05384489999999,\n",
       " '4': 30.4270708,\n",
       " '5': 11.0,\n",
       " '6': 0.958210396642783,\n",
       " '7': 0.0,\n",
       " '8': 0.0,\n",
       " '9': 0.0,\n",
       " '10': 0.0,\n",
       " '11': 22.0,\n",
       " '12': 0.0,\n",
       " '13': 14.508166789447232}"
      ]
     },
     "execution_count": 83,
     "metadata": {},
     "output_type": "execute_result"
    }
   ],
   "source": [
    "d"
   ]
  },
  {
   "cell_type": "code",
   "execution_count": 90,
   "metadata": {},
   "outputs": [
    {
     "data": {
      "text/plain": [
       "{'0': 2.0,\n",
       " '1': 3.9,\n",
       " '2': 8.0,\n",
       " '3': 60.05384489999999,\n",
       " '4': 30.4270708,\n",
       " '5': 11.0,\n",
       " '6': 0.958210396642783,\n",
       " '7': 0.0,\n",
       " '8': 0.0,\n",
       " '9': 0.0,\n",
       " '10': 0.0,\n",
       " '11': 22.0,\n",
       " '12': 0.0,\n",
       " '13': 14.508166789447232}"
      ]
     },
     "execution_count": 90,
     "metadata": {},
     "output_type": "execute_result"
    }
   ],
   "source": [
    "d"
   ]
  },
  {
   "cell_type": "code",
   "execution_count": null,
   "metadata": {},
   "outputs": [],
   "source": []
  }
 ],
 "metadata": {
  "kernelspec": {
   "display_name": "Python 3",
   "language": "python",
   "name": "python3"
  },
  "language_info": {
   "codemirror_mode": {
    "name": "ipython",
    "version": 3
   },
   "file_extension": ".py",
   "mimetype": "text/x-python",
   "name": "python",
   "nbconvert_exporter": "python",
   "pygments_lexer": "ipython3",
   "version": "3.7.7"
  }
 },
 "nbformat": 4,
 "nbformat_minor": 2
}
